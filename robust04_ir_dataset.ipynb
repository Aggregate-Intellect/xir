{
  "cells": [
    {
      "cell_type": "markdown",
      "metadata": {
        "id": "view-in-github",
        "colab_type": "text"
      },
      "source": [
        "<a href=\"https://colab.research.google.com/github/ChenKua/xir/blob/main/robust04_ir_dataset.ipynb\" target=\"_parent\"><img src=\"https://colab.research.google.com/assets/colab-badge.svg\" alt=\"Open In Colab\"/></a>"
      ]
    },
    {
      "cell_type": "markdown",
      "source": [
        "#prepare robust04 dataset"
      ],
      "metadata": {
        "id": "VNqEH_bWum1H"
      }
    },
    {
      "cell_type": "markdown",
      "source": [
        "Import robust04 dataset from google drive"
      ],
      "metadata": {
        "id": "70XWBUl1vIhp"
      }
    },
    {
      "cell_type": "code",
      "execution_count": 1,
      "metadata": {
        "colab": {
          "base_uri": "https://localhost:8080/"
        },
        "id": "5S-4zjKt_vy_",
        "outputId": "ffa2d89f-193a-4821-d323-df05ec04f5fc"
      },
      "outputs": [
        {
          "output_type": "stream",
          "name": "stdout",
          "text": [
            "Mounted at /content/drive\n"
          ]
        }
      ],
      "source": [
        "from google.colab import drive\n",
        "drive.mount('/content/drive')"
      ]
    },
    {
      "cell_type": "markdown",
      "source": [
        "Untar two dataset object"
      ],
      "metadata": {
        "id": "Ip_l8LfuvQIX"
      }
    },
    {
      "cell_type": "code",
      "execution_count": null,
      "metadata": {
        "id": "SP9HwdeGDzQF"
      },
      "outputs": [],
      "source": [
        "!tar -xzvf \"/content/drive/MyDrive/TREC-Disk-4.tar.gz\" \n",
        "!tar -xzvf \"/content/drive/MyDrive/TREC-Disk-5.tar.gz\" "
      ]
    },
    {
      "cell_type": "markdown",
      "source": [
        "Install ir_datasets packages"
      ],
      "metadata": {
        "id": "zhsH0g3pvVeJ"
      }
    },
    {
      "cell_type": "code",
      "execution_count": null,
      "metadata": {
        "id": "8flQ9rBvSGrC"
      },
      "outputs": [],
      "source": [
        "!pip install ir_datasets\n",
        "!pip install git+https://github.com/seanmacavaney/irds_robust_anserini.git"
      ]
    },
    {
      "cell_type": "markdown",
      "source": [
        "Load the dataset"
      ],
      "metadata": {
        "id": "lLqhYkcjvdvA"
      }
    },
    {
      "cell_type": "code",
      "execution_count": 4,
      "metadata": {
        "colab": {
          "base_uri": "https://localhost:8080/"
        },
        "id": "yG_VYZ7oTNgc",
        "outputId": "7d246594-fe3f-429c-e10b-291849fb2ad8"
      },
      "outputs": [
        {
          "output_type": "stream",
          "name": "stderr",
          "text": [
            "[INFO] trec-robust04 is deprecated. Consider using disks45/nocr/trec-robust-2004 instead, which provides better parsing of the corpus.\n",
            "[INFO] trec-robust04/fold1 is deprecated. Consider using disks45/nocr/trec-robust-2004/fold1 instead, which provides better parsing of the corpus.\n",
            "[INFO] trec-robust04/fold2 is deprecated. Consider using disks45/nocr/trec-robust-2004/fold2 instead, which provides better parsing of the corpus.\n",
            "[INFO] trec-robust04/fold3 is deprecated. Consider using disks45/nocr/trec-robust-2004/fold3 instead, which provides better parsing of the corpus.\n",
            "[INFO] trec-robust04/fold4 is deprecated. Consider using disks45/nocr/trec-robust-2004/fold4 instead, which provides better parsing of the corpus.\n",
            "[INFO] trec-robust04/fold5 is deprecated. Consider using disks45/nocr/trec-robust-2004/fold5 instead, which provides better parsing of the corpus.\n",
            "[INFO] trec-robust04 is deprecated. Consider using disks45/nocr/trec-robust-2004 instead, which provides better parsing of the corpus.\n"
          ]
        }
      ],
      "source": [
        "import ir_datasets\n",
        "import irds_robust_anserini\n",
        "\n",
        "# Opotion 1: robust04 from ir_datasets\n",
        "dataset = ir_datasets.load('trec-robust04')"
      ]
    },
    {
      "cell_type": "code",
      "execution_count": 5,
      "metadata": {
        "id": "hyJmjTc2gMuv"
      },
      "outputs": [],
      "source": [
        "!mkdir /root/.ir_datasets/trec-robust04/trec45\n",
        "!cp -R /content/TREC-Disk-4 /root/.ir_datasets/trec-robust04/trec45\n",
        "!cp -R /content/TREC-Disk-5 /root/.ir_datasets/trec-robust04/trec45\n",
        "!cd /root/.ir_datasets/trec-robust04/trec45 "
      ]
    },
    {
      "cell_type": "markdown",
      "source": [
        "# details of robust04 dataset"
      ],
      "metadata": {
        "id": "nEbx-vjcu6Ae"
      }
    },
    {
      "cell_type": "markdown",
      "source": [
        "Returns the number of documents in the collection."
      ],
      "metadata": {
        "id": "LLIHdVCVvjKE"
      }
    },
    {
      "cell_type": "code",
      "execution_count": 6,
      "metadata": {
        "colab": {
          "base_uri": "https://localhost:8080/"
        },
        "id": "8F3YFdePTxKa",
        "outputId": "8f9ccdaa-438a-4590-f19e-23876d9b42dd"
      },
      "outputs": [
        {
          "output_type": "execute_result",
          "data": {
            "text/plain": [
              "528155"
            ]
          },
          "metadata": {},
          "execution_count": 6
        }
      ],
      "source": [
        "dataset.docs_count()"
      ]
    },
    {
      "cell_type": "markdown",
      "source": [
        "Returns the number of queries in the collection."
      ],
      "metadata": {
        "id": "BQgLolv2lyox"
      }
    },
    {
      "cell_type": "code",
      "source": [
        "dataset.queries_count()"
      ],
      "metadata": {
        "colab": {
          "base_uri": "https://localhost:8080/"
        },
        "id": "3Rw1sexSlv4V",
        "outputId": "6b530109-58b5-405a-a68b-a0ab89430ab1"
      },
      "execution_count": 7,
      "outputs": [
        {
          "output_type": "execute_result",
          "data": {
            "text/plain": [
              "250"
            ]
          },
          "metadata": {},
          "execution_count": 7
        }
      ]
    },
    {
      "cell_type": "markdown",
      "source": [
        "Returns the number of qrels in the collection."
      ],
      "metadata": {
        "id": "NH0mCUqhmTRO"
      }
    },
    {
      "cell_type": "code",
      "source": [
        "dataset.qrels_count()"
      ],
      "metadata": {
        "colab": {
          "base_uri": "https://localhost:8080/"
        },
        "id": "de7xNfQ0mTqH",
        "outputId": "39f13754-65f6-4f8d-cd00-6a7b199c809f"
      },
      "execution_count": 8,
      "outputs": [
        {
          "output_type": "execute_result",
          "data": {
            "text/plain": [
              "311410"
            ]
          },
          "metadata": {},
          "execution_count": 8
        }
      ]
    },
    {
      "cell_type": "markdown",
      "source": [
        "Returns an iterator , where each item is a document in the collection.\n",
        "Print the first five documents"
      ],
      "metadata": {
        "id": "AaFucrJWkZmI"
      }
    },
    {
      "cell_type": "code",
      "execution_count": 29,
      "metadata": {
        "colab": {
          "base_uri": "https://localhost:8080/"
        },
        "id": "dNB6FGWnQRkg",
        "outputId": "6721113b-eac5-47a4-ad86-748a4ad3e7e5"
      },
      "outputs": [
        {
          "output_type": "stream",
          "name": "stdout",
          "text": [
            "\n",
            "TrecDoc(doc_id='FBIS3-1', text='\\n\\nPOLITICIANS,  PARTY PREFERENCES \\n\\n   Summary:  Newspapers in the Former Yugoslav Republic of \\n   Macedonia have published the results of opinion polls, \\n   indicating the relative popularity of politicians, \\n   political parties, and attitudes toward the political system. \\n\\n   The 22-23 January edition of the Skopje newspaper VECER in \\nMacedonian published on pages 6-7 the results of an opinion poll \\nconducted by the \"BriMa\" agency in November 1993. According to \\nVECER, 1,036 respondents were classified by age and residence, but \\nthe paper did not explain the methodology or give the margin of \\nerror.  For the purpose of comparison, the paper cited the results \\nof an unidentified poll made in May 1993. The approval/disapproval \\nratings, in percent, for ten Macedonian politicians were: \\n\\n                                           November 1993    May 1993 \\n\\nKiro Gligorov, President of the Republic      76/15           78/13 \\n\\nVasil Tupurkovski, former Macedonian          50/36           43/37 \\n   official in Federal Yugoslavia \\n\\nLjubomir Frckovski, Interior Minister         50/42           42/43 \\n\\nStojan Andov, Parliamentary Chairman          48/41           48/39 \\n\\nBranko Crvenkovski, Prime Minister            46/41           44/38 \\n\\nVlado Popovski, Defense Minister              41/41           36/37 \\n\\nStevo Crvenkovski, Foreign Minister           40/43   No Data Given \\n\\nPetar Gosev, Democratic Party leader          34/53           40/42 \\n\\nTodor Petrov, Independent parliamentarian     32/53   No Data Given \\n\\nNikola Popovski, Social Democratic            29/46           32/42 \\n   Party parliamentarian \\n\\n   VECER noted that President Gligorov\\'s very high approval rating \\nof 90 percent among those over age 65 fell off to a still high 70 \\npercent among respondents between 18 and 24.  Residents of Skopje \\nranked the politicians in a slightly different order from the \\nranking given by the whole sample: Gligorov, Tupurkovski, Frckovski, \\nAndov, Gosev, Branko Crvenkovski, Vlado Popovski, Petrov, Nikola \\nPopovski, and Stevo Crvenkovski. \\n\\n   The results of a series of opinion polls conducted by the Agency \\nfor Public Opinion Research and published \"exclusively\" by the \\nSkopje weekly PULS newspaper, confirmed Gligorov\\'s substantial lead \\nin popularity among political figures.  According to the 31 December \\n1993 issue of PULS (pages 16-18), the agency gathered the data by \\nmeans of telephone interviews with 300 residents in the Republic of \\nMacedonia during 20-24 December. PULS also provided data from \\nsurveys made in March, June, and September for comparison.  Some of \\nthe following percentages are approximate values that were derived \\nfrom the graph published by the paper: \\n\\n                         March       June      September    December \\n\\nKiro Gligorov             87          82.33      89.33           89 \\nStevo Crvenkovski         54          65         49              63 \\nStojan Andov              61          62         60              61 \\nBranko Crvenkovski        56          60         54 \\n53.5 \\nLjubomir Frckovski        35          45         48              50 \\nPetar Gosev               50          31         52 \\n49.53 \\nJovan Andonov, \\n Deputy Prime Minister    39          39         50              37 \\nVlado Popovski            18          25         36              35 \\nKiro Popovski, Deputy \\n Chairman, Parliament     26          27         33              32 \\nAnte Popovski, leader of \\n MAAK (Movement for All- \\n Macedonian Action)       29          32         32 \\nindistinct \\nJane Miljovski, Minister \\n without Portfolio        --          23         31              24 \\nVladimir Golubovski \\n VMRO-DP (Internal \\n Macedonian Revolutionary \\n Organization-Democratic \\n Party) leader            --          30         25              23 \\nNevzat Halili \\n Party for Democratic \\n Prosperity official      38.33       38         18              18 \\n\\nLj upco Georgievski \\nVMRO-DPMNE (Internal \\nMacedonian Revolutionary \\nOrganization-Democratic \\nParty for Macedonian \\nNational Unity) \\nofficial                  18          10         16              17 \\nDosta Dimovska \\nVMRO-DPMNE \\nofficial                  --          11         17              16 \\n\\n   On pages 6 and 7 of its 15-16 January issue, VECER also published \\nthe results of a November 1993 survey on party preferences. \\n\"BriMa,\" working with the Gallup organization, interviewed 1,036 \\npeople. \\n\\n   Question: \"If elections were held today, for which party would \\nyou vote?\" (all numbers are percentages) \\n\\nSDSM (Social Democratic Alliance of Macedonia)  22.8 \\nVMRO-DPMNE                                      11.2 \\nDemocratic Party (DP, led by Petar Gosev)        6.3 \\nSocialist Party                                  3.3 \\nLiberal Party (LP)                               3.2 \\nWorkers Party                                    2.9 \\nPCERM (Party for the Full Emancipation of \\n    Romanies in Macedonia)                       1.8 \\nDemocratic Party of Turks in Macedonia           0.8 \\nMAAK                                             0.3 \\nAnother party                                    4.0 \\nUndecided                                       18.6 \\nWould not vote                                   6.6 \\n\\n   VECER noted that some parties fared better in certain cities than \\ntheir overall scores indicate.  For example, the DP was about twice \\nas popular in Skopje as elsewhere, getting 12.1 percent in the \\ncapital; the VMRO-DPMNE was more popular in Bitola, getting 15.7 \\npercent, than in the remainder of the country; and the LP in the \\nBregalnica area got the support of 10.6 percent, substantially \\nhigher than the 3.2 percent support it received overall. \\n\\n   Question: \"Do you have confidence in the following parties?\" (all \\nnumbers are percentages) \\n\\n              Yes           No       Do Not Know \\n\\nSDSM           28           51          21 \\nVMRO-DPMNE     15           72          14 \\nLP             19           59          22 \\nPDP-NDP*       20           73           7 \\n\\n*Party for Democratic Prosperity-People\\'s Democratic Party \\n\\n   The poll clearly indicated that Macedonians have little \\nconfidence in any of the parties currently active in the country. \\nRespondents were also asked whether it would be good for the country \\nto have elections sooner than scheduled; 62 percent agreed, 20 \\npercent disagreed, and 18 percent did not know. These findings were \\ncorrelated with party preferences, producing the following results: \\nOf those who would vote for the SDSM, 54 percent wanted elections \\nsoon, while 34 percent were against early elections. However, 80 \\npercent of VMRO-DPMNE supporters favored elections soon, as did 79 \\npercent of LP supporters and 71 percent of DP supporters. While 80 \\npercent of those surveyed thought that a person should vote (14 \\npercent did not agree), only 40 percent thought that it was very \\nimportant which party won the elections and 27 percent thought it \\nwas somewhat significant. \\n\\n   (AUTHOR:  GALYEAN.  QUESTIONS AND/OR COMMENTS, PLEASE CALL CHIEF, \\nBALKANS BRANCH AT (703) 733-6481) \\n\\nELAG/25 February/POLCHF/EED/DEW 28/2023Z FEB \\n\\n\\n', marked_up_doc='<TEXT>\\nPOLITICIANS,  PARTY PREFERENCES \\n\\n   Summary:  Newspapers in the Former Yugoslav Republic of \\n   Macedonia have published the results of opinion polls, \\n   indicating the relative popularity of politicians, \\n   political parties, and attitudes toward the political system. \\n\\n   The 22-23 January edition of the Skopje newspaper VECER in \\nMacedonian published on pages 6-7 the results of an opinion poll \\nconducted by the \"BriMa\" agency in November 1993. According to \\nVECER, 1,036 respondents were classified by age and residence, but \\nthe paper did not explain the methodology or give the margin of \\nerror.  For the purpose of comparison, the paper cited the results \\nof an unidentified poll made in May 1993. The approval/disapproval \\nratings, in percent, for ten Macedonian politicians were: \\n\\n                                           November 1993    May 1993 \\n\\nKiro Gligorov, President of the Republic      76/15           78/13 \\n\\nVasil Tupurkovski, former Macedonian          50/36           43/37 \\n   official in Federal Yugoslavia \\n\\nLjubomir Frckovski, Interior Minister         50/42           42/43 \\n\\nStojan Andov, Parliamentary Chairman          48/41           48/39 \\n\\nBranko Crvenkovski, Prime Minister            46/41           44/38 \\n\\nVlado Popovski, Defense Minister              41/41           36/37 \\n\\nStevo Crvenkovski, Foreign Minister           40/43   No Data Given \\n\\nPetar Gosev, Democratic Party leader          34/53           40/42 \\n\\nTodor Petrov, Independent parliamentarian     32/53   No Data Given \\n\\nNikola Popovski, Social Democratic            29/46           32/42 \\n   Party parliamentarian \\n\\n   VECER noted that President Gligorov\\'s very high approval rating \\nof 90 percent among those over age 65 fell off to a still high 70 \\npercent among respondents between 18 and 24.  Residents of Skopje \\nranked the politicians in a slightly different order from the \\nranking given by the whole sample: Gligorov, Tupurkovski, Frckovski, \\nAndov, Gosev, Branko Crvenkovski, Vlado Popovski, Petrov, Nikola \\nPopovski, and Stevo Crvenkovski. \\n\\n   The results of a series of opinion polls conducted by the Agency \\nfor Public Opinion Research and published \"exclusively\" by the \\nSkopje weekly PULS newspaper, confirmed Gligorov\\'s substantial lead \\nin popularity among political figures.  According to the 31 December \\n1993 issue of PULS (pages 16-18), the agency gathered the data by \\nmeans of telephone interviews with 300 residents in the Republic of \\nMacedonia during 20-24 December. PULS also provided data from \\nsurveys made in March, June, and September for comparison.  Some of \\nthe following percentages are approximate values that were derived \\nfrom the graph published by the paper: \\n\\n                         March       June      September    December \\n\\nKiro Gligorov             87          82.33      89.33           89 \\nStevo Crvenkovski         54          65         49              63 \\nStojan Andov              61          62         60              61 \\nBranko Crvenkovski        56          60         54 \\n53.5 \\nLjubomir Frckovski        35          45         48              50 \\nPetar Gosev               50          31         52 \\n49.53 \\nJovan Andonov, \\n Deputy Prime Minister    39          39         50              37 \\nVlado Popovski            18          25         36              35 \\nKiro Popovski, Deputy \\n Chairman, Parliament     26          27         33              32 \\nAnte Popovski, leader of \\n MAAK (Movement for All- \\n Macedonian Action)       29          32         32 \\nindistinct \\nJane Miljovski, Minister \\n without Portfolio        --          23         31              24 \\nVladimir Golubovski \\n VMRO-DP (Internal \\n Macedonian Revolutionary \\n Organization-Democratic \\n Party) leader            --          30         25              23 \\nNevzat Halili \\n Party for Democratic \\n Prosperity official      38.33       38         18              18 \\n\\nLj upco Georgievski \\nVMRO-DPMNE (Internal \\nMacedonian Revolutionary \\nOrganization-Democratic \\nParty for Macedonian \\nNational Unity) \\nofficial                  18          10         16              17 \\nDosta Dimovska \\nVMRO-DPMNE \\nofficial                  --          11         17              16 \\n\\n   On pages 6 and 7 of its 15-16 January issue, VECER also published \\nthe results of a November 1993 survey on party preferences. \\n\"BriMa,\" working with the Gallup organization, interviewed 1,036 \\npeople. \\n\\n   Question: \"If elections were held today, for which party would \\nyou vote?\" (all numbers are percentages) \\n\\nSDSM (Social Democratic Alliance of Macedonia)  22.8 \\nVMRO-DPMNE                                      11.2 \\nDemocratic Party (DP, led by Petar Gosev)        6.3 \\nSocialist Party                                  3.3 \\nLiberal Party (LP)                               3.2 \\nWorkers Party                                    2.9 \\nPCERM (Party for the Full Emancipation of \\n    Romanies in Macedonia)                       1.8 \\nDemocratic Party of Turks in Macedonia           0.8 \\nMAAK                                             0.3 \\nAnother party                                    4.0 \\nUndecided                                       18.6 \\nWould not vote                                   6.6 \\n\\n   VECER noted that some parties fared better in certain cities than \\ntheir overall scores indicate.  For example, the DP was about twice \\nas popular in Skopje as elsewhere, getting 12.1 percent in the \\ncapital; the VMRO-DPMNE was more popular in Bitola, getting 15.7 \\npercent, than in the remainder of the country; and the LP in the \\nBregalnica area got the support of 10.6 percent, substantially \\nhigher than the 3.2 percent support it received overall. \\n\\n   Question: \"Do you have confidence in the following parties?\" (all \\nnumbers are percentages) \\n\\n              Yes           No       Do Not Know \\n\\nSDSM           28           51          21 \\nVMRO-DPMNE     15           72          14 \\nLP             19           59          22 \\nPDP-NDP*       20           73           7 \\n\\n*Party for Democratic Prosperity-People\\'s Democratic Party \\n\\n   The poll clearly indicated that Macedonians have little \\nconfidence in any of the parties currently active in the country. \\nRespondents were also asked whether it would be good for the country \\nto have elections sooner than scheduled; 62 percent agreed, 20 \\npercent disagreed, and 18 percent did not know. These findings were \\ncorrelated with party preferences, producing the following results: \\nOf those who would vote for the SDSM, 54 percent wanted elections \\nsoon, while 34 percent were against early elections. However, 80 \\npercent of VMRO-DPMNE supporters favored elections soon, as did 79 \\npercent of LP supporters and 71 percent of DP supporters. While 80 \\npercent of those surveyed thought that a person should vote (14 \\npercent did not agree), only 40 percent thought that it was very \\nimportant which party won the elections and 27 percent thought it \\nwas somewhat significant. \\n\\n   (AUTHOR:  GALYEAN.  QUESTIONS AND/OR COMMENTS, PLEASE CALL CHIEF, \\nBALKANS BRANCH AT (703) 733-6481) \\n\\nELAG/25 February/POLCHF/EED/DEW 28/2023Z FEB \\n\\n</TEXT>\\n')\n"
          ]
        }
      ],
      "source": [
        "for doc in dataset.docs_iter()[:1]:\n",
        "  print(\"\")\n",
        "  print(doc)"
      ]
    },
    {
      "cell_type": "markdown",
      "source": [
        ""
      ],
      "metadata": {
        "id": "sYBRwBtskmdl"
      }
    },
    {
      "cell_type": "code",
      "source": [
        "dataset.docs_cls()"
      ],
      "metadata": {
        "colab": {
          "base_uri": "https://localhost:8080/"
        },
        "id": "ibLy6td8oAWC",
        "outputId": "fd4d8d1e-ae05-4a5b-ae3b-9c902ad7d915"
      },
      "execution_count": 10,
      "outputs": [
        {
          "output_type": "execute_result",
          "data": {
            "text/plain": [
              "ir_datasets.formats.trec.TrecDoc"
            ]
          },
          "metadata": {},
          "execution_count": 10
        }
      ]
    },
    {
      "cell_type": "code",
      "execution_count": 11,
      "metadata": {
        "id": "t7JqcFeNewnJ",
        "colab": {
          "base_uri": "https://localhost:8080/"
        },
        "outputId": "8ee924c9-8ded-4d7f-a371-a5afa3c9ae1d"
      },
      "outputs": [
        {
          "output_type": "execute_result",
          "data": {
            "text/plain": [
              "('doc_id', 'text', 'marked_up_doc')"
            ]
          },
          "metadata": {},
          "execution_count": 11
        }
      ],
      "source": [
        "dataset.docs_cls()._fields"
      ]
    },
    {
      "cell_type": "code",
      "execution_count": 12,
      "metadata": {
        "id": "whKn3GH2fNy-",
        "colab": {
          "base_uri": "https://localhost:8080/"
        },
        "outputId": "89fa60b3-6d0e-4ba6-d5c8-c33529866ad7"
      },
      "outputs": [
        {
          "output_type": "execute_result",
          "data": {
            "text/plain": [
              "OrderedDict([('doc_id', str), ('text', str), ('marked_up_doc', str)])"
            ]
          },
          "metadata": {},
          "execution_count": 12
        }
      ],
      "source": [
        "dataset.docs_cls().__annotations__"
      ]
    },
    {
      "cell_type": "code",
      "source": [
        "import pandas as pd\n",
        "pd.DataFrame(dataset.queries_iter())"
      ],
      "metadata": {
        "colab": {
          "base_uri": "https://localhost:8080/",
          "height": 541
        },
        "id": "sRtZ5UF1ofIu",
        "outputId": "6e1fb8b1-2368-4d13-e280-5095c7fc5b08"
      },
      "execution_count": 13,
      "outputs": [
        {
          "output_type": "stream",
          "name": "stderr",
          "text": [
            "[INFO] Please confirm you agree to the TREC Robust 2004 data usage agreement found at <https://trec.nist.gov/data/cd45/index.html>\n",
            "[INFO] [starting] https://trec.nist.gov/data/robust/04.testset.gz\n",
            "[INFO] [finished] https://trec.nist.gov/data/robust/04.testset.gz: [00:00] [34.3kB] [981kB/s]\n"
          ]
        },
        {
          "output_type": "execute_result",
          "data": {
            "text/plain": [
              "    query_id                          title  \\\n",
              "0        301  International Organized Crime   \n",
              "1        302   Poliomyelitis and Post-Polio   \n",
              "2        303  Hubble Telescope Achievements   \n",
              "3        304   Endangered Species (Mammals)   \n",
              "4        305        Most Dangerous Vehicles   \n",
              "..       ...                            ...   \n",
              "245      696         safety plastic surgery   \n",
              "246      697         air traffic controller   \n",
              "247      698          literacy rates Africa   \n",
              "248      699                    term limits   \n",
              "249      700              gasoline tax U.S.   \n",
              "\n",
              "                                           description  \\\n",
              "0    Identify organizations that participate in int...   \n",
              "1    Is the disease of Poliomyelitis (polio) under ...   \n",
              "2    Identify positive accomplishments of the Hubbl...   \n",
              "3    Compile a list of mammals that are considered ...   \n",
              "4    Which are the most crashworthy, and least cras...   \n",
              "..                                                 ...   \n",
              "245  Find documents that discuss the safety of or t...   \n",
              "246  What are working conditions and pay for U.S. a...   \n",
              "247      What are literacy rates in African countries?   \n",
              "248         What are the pros and cons of term limits?   \n",
              "249  What are the arguments for and against an incr...   \n",
              "\n",
              "                                             narrative  \n",
              "0    A relevant document must as a minimum identify...  \n",
              "1    Relevant documents should contain data or outb...  \n",
              "2    Documents are relevant that show the Hubble te...  \n",
              "3    Any document identifying a mammal as endangere...  \n",
              "4    A relevant document will contain information o...  \n",
              "..                                                 ...  \n",
              "245  Relevant document must refer to a safety issue...  \n",
              "246  Relevant documents tell something about workin...  \n",
              "247  A relevant document will contain information a...  \n",
              "248  Relevant documents reflect an opinion on the v...  \n",
              "249  Relevant documents present reasons for or agai...  \n",
              "\n",
              "[250 rows x 4 columns]"
            ],
            "text/html": [
              "\n",
              "  <div id=\"df-b6d29e86-2048-4fdc-a53c-4822e4f2b90d\">\n",
              "    <div class=\"colab-df-container\">\n",
              "      <div>\n",
              "<style scoped>\n",
              "    .dataframe tbody tr th:only-of-type {\n",
              "        vertical-align: middle;\n",
              "    }\n",
              "\n",
              "    .dataframe tbody tr th {\n",
              "        vertical-align: top;\n",
              "    }\n",
              "\n",
              "    .dataframe thead th {\n",
              "        text-align: right;\n",
              "    }\n",
              "</style>\n",
              "<table border=\"1\" class=\"dataframe\">\n",
              "  <thead>\n",
              "    <tr style=\"text-align: right;\">\n",
              "      <th></th>\n",
              "      <th>query_id</th>\n",
              "      <th>title</th>\n",
              "      <th>description</th>\n",
              "      <th>narrative</th>\n",
              "    </tr>\n",
              "  </thead>\n",
              "  <tbody>\n",
              "    <tr>\n",
              "      <th>0</th>\n",
              "      <td>301</td>\n",
              "      <td>International Organized Crime</td>\n",
              "      <td>Identify organizations that participate in int...</td>\n",
              "      <td>A relevant document must as a minimum identify...</td>\n",
              "    </tr>\n",
              "    <tr>\n",
              "      <th>1</th>\n",
              "      <td>302</td>\n",
              "      <td>Poliomyelitis and Post-Polio</td>\n",
              "      <td>Is the disease of Poliomyelitis (polio) under ...</td>\n",
              "      <td>Relevant documents should contain data or outb...</td>\n",
              "    </tr>\n",
              "    <tr>\n",
              "      <th>2</th>\n",
              "      <td>303</td>\n",
              "      <td>Hubble Telescope Achievements</td>\n",
              "      <td>Identify positive accomplishments of the Hubbl...</td>\n",
              "      <td>Documents are relevant that show the Hubble te...</td>\n",
              "    </tr>\n",
              "    <tr>\n",
              "      <th>3</th>\n",
              "      <td>304</td>\n",
              "      <td>Endangered Species (Mammals)</td>\n",
              "      <td>Compile a list of mammals that are considered ...</td>\n",
              "      <td>Any document identifying a mammal as endangere...</td>\n",
              "    </tr>\n",
              "    <tr>\n",
              "      <th>4</th>\n",
              "      <td>305</td>\n",
              "      <td>Most Dangerous Vehicles</td>\n",
              "      <td>Which are the most crashworthy, and least cras...</td>\n",
              "      <td>A relevant document will contain information o...</td>\n",
              "    </tr>\n",
              "    <tr>\n",
              "      <th>...</th>\n",
              "      <td>...</td>\n",
              "      <td>...</td>\n",
              "      <td>...</td>\n",
              "      <td>...</td>\n",
              "    </tr>\n",
              "    <tr>\n",
              "      <th>245</th>\n",
              "      <td>696</td>\n",
              "      <td>safety plastic surgery</td>\n",
              "      <td>Find documents that discuss the safety of or t...</td>\n",
              "      <td>Relevant document must refer to a safety issue...</td>\n",
              "    </tr>\n",
              "    <tr>\n",
              "      <th>246</th>\n",
              "      <td>697</td>\n",
              "      <td>air traffic controller</td>\n",
              "      <td>What are working conditions and pay for U.S. a...</td>\n",
              "      <td>Relevant documents tell something about workin...</td>\n",
              "    </tr>\n",
              "    <tr>\n",
              "      <th>247</th>\n",
              "      <td>698</td>\n",
              "      <td>literacy rates Africa</td>\n",
              "      <td>What are literacy rates in African countries?</td>\n",
              "      <td>A relevant document will contain information a...</td>\n",
              "    </tr>\n",
              "    <tr>\n",
              "      <th>248</th>\n",
              "      <td>699</td>\n",
              "      <td>term limits</td>\n",
              "      <td>What are the pros and cons of term limits?</td>\n",
              "      <td>Relevant documents reflect an opinion on the v...</td>\n",
              "    </tr>\n",
              "    <tr>\n",
              "      <th>249</th>\n",
              "      <td>700</td>\n",
              "      <td>gasoline tax U.S.</td>\n",
              "      <td>What are the arguments for and against an incr...</td>\n",
              "      <td>Relevant documents present reasons for or agai...</td>\n",
              "    </tr>\n",
              "  </tbody>\n",
              "</table>\n",
              "<p>250 rows × 4 columns</p>\n",
              "</div>\n",
              "      <button class=\"colab-df-convert\" onclick=\"convertToInteractive('df-b6d29e86-2048-4fdc-a53c-4822e4f2b90d')\"\n",
              "              title=\"Convert this dataframe to an interactive table.\"\n",
              "              style=\"display:none;\">\n",
              "        \n",
              "  <svg xmlns=\"http://www.w3.org/2000/svg\" height=\"24px\"viewBox=\"0 0 24 24\"\n",
              "       width=\"24px\">\n",
              "    <path d=\"M0 0h24v24H0V0z\" fill=\"none\"/>\n",
              "    <path d=\"M18.56 5.44l.94 2.06.94-2.06 2.06-.94-2.06-.94-.94-2.06-.94 2.06-2.06.94zm-11 1L8.5 8.5l.94-2.06 2.06-.94-2.06-.94L8.5 2.5l-.94 2.06-2.06.94zm10 10l.94 2.06.94-2.06 2.06-.94-2.06-.94-.94-2.06-.94 2.06-2.06.94z\"/><path d=\"M17.41 7.96l-1.37-1.37c-.4-.4-.92-.59-1.43-.59-.52 0-1.04.2-1.43.59L10.3 9.45l-7.72 7.72c-.78.78-.78 2.05 0 2.83L4 21.41c.39.39.9.59 1.41.59.51 0 1.02-.2 1.41-.59l7.78-7.78 2.81-2.81c.8-.78.8-2.07 0-2.86zM5.41 20L4 18.59l7.72-7.72 1.47 1.35L5.41 20z\"/>\n",
              "  </svg>\n",
              "      </button>\n",
              "      \n",
              "  <style>\n",
              "    .colab-df-container {\n",
              "      display:flex;\n",
              "      flex-wrap:wrap;\n",
              "      gap: 12px;\n",
              "    }\n",
              "\n",
              "    .colab-df-convert {\n",
              "      background-color: #E8F0FE;\n",
              "      border: none;\n",
              "      border-radius: 50%;\n",
              "      cursor: pointer;\n",
              "      display: none;\n",
              "      fill: #1967D2;\n",
              "      height: 32px;\n",
              "      padding: 0 0 0 0;\n",
              "      width: 32px;\n",
              "    }\n",
              "\n",
              "    .colab-df-convert:hover {\n",
              "      background-color: #E2EBFA;\n",
              "      box-shadow: 0px 1px 2px rgba(60, 64, 67, 0.3), 0px 1px 3px 1px rgba(60, 64, 67, 0.15);\n",
              "      fill: #174EA6;\n",
              "    }\n",
              "\n",
              "    [theme=dark] .colab-df-convert {\n",
              "      background-color: #3B4455;\n",
              "      fill: #D2E3FC;\n",
              "    }\n",
              "\n",
              "    [theme=dark] .colab-df-convert:hover {\n",
              "      background-color: #434B5C;\n",
              "      box-shadow: 0px 1px 3px 1px rgba(0, 0, 0, 0.15);\n",
              "      filter: drop-shadow(0px 1px 2px rgba(0, 0, 0, 0.3));\n",
              "      fill: #FFFFFF;\n",
              "    }\n",
              "  </style>\n",
              "\n",
              "      <script>\n",
              "        const buttonEl =\n",
              "          document.querySelector('#df-b6d29e86-2048-4fdc-a53c-4822e4f2b90d button.colab-df-convert');\n",
              "        buttonEl.style.display =\n",
              "          google.colab.kernel.accessAllowed ? 'block' : 'none';\n",
              "\n",
              "        async function convertToInteractive(key) {\n",
              "          const element = document.querySelector('#df-b6d29e86-2048-4fdc-a53c-4822e4f2b90d');\n",
              "          const dataTable =\n",
              "            await google.colab.kernel.invokeFunction('convertToInteractive',\n",
              "                                                     [key], {});\n",
              "          if (!dataTable) return;\n",
              "\n",
              "          const docLinkHtml = 'Like what you see? Visit the ' +\n",
              "            '<a target=\"_blank\" href=https://colab.research.google.com/notebooks/data_table.ipynb>data table notebook</a>'\n",
              "            + ' to learn more about interactive tables.';\n",
              "          element.innerHTML = '';\n",
              "          dataTable['output_type'] = 'display_data';\n",
              "          await google.colab.output.renderOutput(dataTable, element);\n",
              "          const docLink = document.createElement('div');\n",
              "          docLink.innerHTML = docLinkHtml;\n",
              "          element.appendChild(docLink);\n",
              "        }\n",
              "      </script>\n",
              "    </div>\n",
              "  </div>\n",
              "  "
            ]
          },
          "metadata": {},
          "execution_count": 13
        }
      ]
    },
    {
      "cell_type": "code",
      "source": [
        "dataset.queries_cls()"
      ],
      "metadata": {
        "colab": {
          "base_uri": "https://localhost:8080/"
        },
        "id": "Gw5lnf-zof71",
        "outputId": "53bc5d7e-691c-43cb-97b7-ee64d9df73d3"
      },
      "execution_count": 14,
      "outputs": [
        {
          "output_type": "execute_result",
          "data": {
            "text/plain": [
              "ir_datasets.formats.trec.TrecQuery"
            ]
          },
          "metadata": {},
          "execution_count": 14
        }
      ]
    },
    {
      "cell_type": "code",
      "source": [
        "dataset.queries_cls()._fields"
      ],
      "metadata": {
        "colab": {
          "base_uri": "https://localhost:8080/"
        },
        "id": "pgVs3950oiBk",
        "outputId": "2073f4f9-5abb-47db-8676-39c821aab2f3"
      },
      "execution_count": 15,
      "outputs": [
        {
          "output_type": "execute_result",
          "data": {
            "text/plain": [
              "('query_id', 'title', 'description', 'narrative')"
            ]
          },
          "metadata": {},
          "execution_count": 15
        }
      ]
    },
    {
      "cell_type": "code",
      "source": [
        "dataset.queries_cls().__annotations__"
      ],
      "metadata": {
        "colab": {
          "base_uri": "https://localhost:8080/"
        },
        "id": "jOOJWk9Vojt5",
        "outputId": "9a1f1261-74a2-4eb1-b79f-08839ed61187"
      },
      "execution_count": 16,
      "outputs": [
        {
          "output_type": "execute_result",
          "data": {
            "text/plain": [
              "OrderedDict([('query_id', str),\n",
              "             ('title', str),\n",
              "             ('description', str),\n",
              "             ('narrative', str)])"
            ]
          },
          "metadata": {},
          "execution_count": 16
        }
      ]
    },
    {
      "cell_type": "code",
      "source": [
        "pd.DataFrame(dataset.qrels_iter())"
      ],
      "metadata": {
        "colab": {
          "base_uri": "https://localhost:8080/",
          "height": 497
        },
        "id": "IP5QKtReolQv",
        "outputId": "28189967-293d-4a5c-8d88-c601d80dc5d9"
      },
      "execution_count": 17,
      "outputs": [
        {
          "output_type": "stream",
          "name": "stderr",
          "text": [
            "[INFO] If you have a local copy of https://trec.nist.gov/data/robust/qrels.robust2004.txt, you can symlink it here to avoid downloading it again: /root/.ir_datasets/downloads/123c2a0ba2ec31178cb1050995dcfdfa\n",
            "[INFO] [starting] https://trec.nist.gov/data/robust/qrels.robust2004.txt\n",
            "[INFO] [finished] https://trec.nist.gov/data/robust/qrels.robust2004.txt: [00:00] [6.54MB] [17.1MB/s]\n"
          ]
        },
        {
          "output_type": "execute_result",
          "data": {
            "text/plain": [
              "       query_id         doc_id  relevance iteration\n",
              "0           301    FBIS3-10082          1         0\n",
              "1           301    FBIS3-10169          0         0\n",
              "2           301    FBIS3-10243          1         0\n",
              "3           301    FBIS3-10319          0         0\n",
              "4           301    FBIS3-10397          1         0\n",
              "...         ...            ...        ...       ...\n",
              "311405      700  LA122690-0089          0         0\n",
              "311406      700  LA122789-0005          0         0\n",
              "311407      700  LA122889-0096          0         0\n",
              "311408      700  LA122990-0108          0         0\n",
              "311409      700  LA123090-0137          0         0\n",
              "\n",
              "[311410 rows x 4 columns]"
            ],
            "text/html": [
              "\n",
              "  <div id=\"df-c7589189-e08c-4fb8-b85f-849b3c60fc64\">\n",
              "    <div class=\"colab-df-container\">\n",
              "      <div>\n",
              "<style scoped>\n",
              "    .dataframe tbody tr th:only-of-type {\n",
              "        vertical-align: middle;\n",
              "    }\n",
              "\n",
              "    .dataframe tbody tr th {\n",
              "        vertical-align: top;\n",
              "    }\n",
              "\n",
              "    .dataframe thead th {\n",
              "        text-align: right;\n",
              "    }\n",
              "</style>\n",
              "<table border=\"1\" class=\"dataframe\">\n",
              "  <thead>\n",
              "    <tr style=\"text-align: right;\">\n",
              "      <th></th>\n",
              "      <th>query_id</th>\n",
              "      <th>doc_id</th>\n",
              "      <th>relevance</th>\n",
              "      <th>iteration</th>\n",
              "    </tr>\n",
              "  </thead>\n",
              "  <tbody>\n",
              "    <tr>\n",
              "      <th>0</th>\n",
              "      <td>301</td>\n",
              "      <td>FBIS3-10082</td>\n",
              "      <td>1</td>\n",
              "      <td>0</td>\n",
              "    </tr>\n",
              "    <tr>\n",
              "      <th>1</th>\n",
              "      <td>301</td>\n",
              "      <td>FBIS3-10169</td>\n",
              "      <td>0</td>\n",
              "      <td>0</td>\n",
              "    </tr>\n",
              "    <tr>\n",
              "      <th>2</th>\n",
              "      <td>301</td>\n",
              "      <td>FBIS3-10243</td>\n",
              "      <td>1</td>\n",
              "      <td>0</td>\n",
              "    </tr>\n",
              "    <tr>\n",
              "      <th>3</th>\n",
              "      <td>301</td>\n",
              "      <td>FBIS3-10319</td>\n",
              "      <td>0</td>\n",
              "      <td>0</td>\n",
              "    </tr>\n",
              "    <tr>\n",
              "      <th>4</th>\n",
              "      <td>301</td>\n",
              "      <td>FBIS3-10397</td>\n",
              "      <td>1</td>\n",
              "      <td>0</td>\n",
              "    </tr>\n",
              "    <tr>\n",
              "      <th>...</th>\n",
              "      <td>...</td>\n",
              "      <td>...</td>\n",
              "      <td>...</td>\n",
              "      <td>...</td>\n",
              "    </tr>\n",
              "    <tr>\n",
              "      <th>311405</th>\n",
              "      <td>700</td>\n",
              "      <td>LA122690-0089</td>\n",
              "      <td>0</td>\n",
              "      <td>0</td>\n",
              "    </tr>\n",
              "    <tr>\n",
              "      <th>311406</th>\n",
              "      <td>700</td>\n",
              "      <td>LA122789-0005</td>\n",
              "      <td>0</td>\n",
              "      <td>0</td>\n",
              "    </tr>\n",
              "    <tr>\n",
              "      <th>311407</th>\n",
              "      <td>700</td>\n",
              "      <td>LA122889-0096</td>\n",
              "      <td>0</td>\n",
              "      <td>0</td>\n",
              "    </tr>\n",
              "    <tr>\n",
              "      <th>311408</th>\n",
              "      <td>700</td>\n",
              "      <td>LA122990-0108</td>\n",
              "      <td>0</td>\n",
              "      <td>0</td>\n",
              "    </tr>\n",
              "    <tr>\n",
              "      <th>311409</th>\n",
              "      <td>700</td>\n",
              "      <td>LA123090-0137</td>\n",
              "      <td>0</td>\n",
              "      <td>0</td>\n",
              "    </tr>\n",
              "  </tbody>\n",
              "</table>\n",
              "<p>311410 rows × 4 columns</p>\n",
              "</div>\n",
              "      <button class=\"colab-df-convert\" onclick=\"convertToInteractive('df-c7589189-e08c-4fb8-b85f-849b3c60fc64')\"\n",
              "              title=\"Convert this dataframe to an interactive table.\"\n",
              "              style=\"display:none;\">\n",
              "        \n",
              "  <svg xmlns=\"http://www.w3.org/2000/svg\" height=\"24px\"viewBox=\"0 0 24 24\"\n",
              "       width=\"24px\">\n",
              "    <path d=\"M0 0h24v24H0V0z\" fill=\"none\"/>\n",
              "    <path d=\"M18.56 5.44l.94 2.06.94-2.06 2.06-.94-2.06-.94-.94-2.06-.94 2.06-2.06.94zm-11 1L8.5 8.5l.94-2.06 2.06-.94-2.06-.94L8.5 2.5l-.94 2.06-2.06.94zm10 10l.94 2.06.94-2.06 2.06-.94-2.06-.94-.94-2.06-.94 2.06-2.06.94z\"/><path d=\"M17.41 7.96l-1.37-1.37c-.4-.4-.92-.59-1.43-.59-.52 0-1.04.2-1.43.59L10.3 9.45l-7.72 7.72c-.78.78-.78 2.05 0 2.83L4 21.41c.39.39.9.59 1.41.59.51 0 1.02-.2 1.41-.59l7.78-7.78 2.81-2.81c.8-.78.8-2.07 0-2.86zM5.41 20L4 18.59l7.72-7.72 1.47 1.35L5.41 20z\"/>\n",
              "  </svg>\n",
              "      </button>\n",
              "      \n",
              "  <style>\n",
              "    .colab-df-container {\n",
              "      display:flex;\n",
              "      flex-wrap:wrap;\n",
              "      gap: 12px;\n",
              "    }\n",
              "\n",
              "    .colab-df-convert {\n",
              "      background-color: #E8F0FE;\n",
              "      border: none;\n",
              "      border-radius: 50%;\n",
              "      cursor: pointer;\n",
              "      display: none;\n",
              "      fill: #1967D2;\n",
              "      height: 32px;\n",
              "      padding: 0 0 0 0;\n",
              "      width: 32px;\n",
              "    }\n",
              "\n",
              "    .colab-df-convert:hover {\n",
              "      background-color: #E2EBFA;\n",
              "      box-shadow: 0px 1px 2px rgba(60, 64, 67, 0.3), 0px 1px 3px 1px rgba(60, 64, 67, 0.15);\n",
              "      fill: #174EA6;\n",
              "    }\n",
              "\n",
              "    [theme=dark] .colab-df-convert {\n",
              "      background-color: #3B4455;\n",
              "      fill: #D2E3FC;\n",
              "    }\n",
              "\n",
              "    [theme=dark] .colab-df-convert:hover {\n",
              "      background-color: #434B5C;\n",
              "      box-shadow: 0px 1px 3px 1px rgba(0, 0, 0, 0.15);\n",
              "      filter: drop-shadow(0px 1px 2px rgba(0, 0, 0, 0.3));\n",
              "      fill: #FFFFFF;\n",
              "    }\n",
              "  </style>\n",
              "\n",
              "      <script>\n",
              "        const buttonEl =\n",
              "          document.querySelector('#df-c7589189-e08c-4fb8-b85f-849b3c60fc64 button.colab-df-convert');\n",
              "        buttonEl.style.display =\n",
              "          google.colab.kernel.accessAllowed ? 'block' : 'none';\n",
              "\n",
              "        async function convertToInteractive(key) {\n",
              "          const element = document.querySelector('#df-c7589189-e08c-4fb8-b85f-849b3c60fc64');\n",
              "          const dataTable =\n",
              "            await google.colab.kernel.invokeFunction('convertToInteractive',\n",
              "                                                     [key], {});\n",
              "          if (!dataTable) return;\n",
              "\n",
              "          const docLinkHtml = 'Like what you see? Visit the ' +\n",
              "            '<a target=\"_blank\" href=https://colab.research.google.com/notebooks/data_table.ipynb>data table notebook</a>'\n",
              "            + ' to learn more about interactive tables.';\n",
              "          element.innerHTML = '';\n",
              "          dataTable['output_type'] = 'display_data';\n",
              "          await google.colab.output.renderOutput(dataTable, element);\n",
              "          const docLink = document.createElement('div');\n",
              "          docLink.innerHTML = docLinkHtml;\n",
              "          element.appendChild(docLink);\n",
              "        }\n",
              "      </script>\n",
              "    </div>\n",
              "  </div>\n",
              "  "
            ]
          },
          "metadata": {},
          "execution_count": 17
        }
      ]
    },
    {
      "cell_type": "code",
      "source": [
        "dataset.qrels_defs()"
      ],
      "metadata": {
        "colab": {
          "base_uri": "https://localhost:8080/"
        },
        "id": "fCRUx7OdonFy",
        "outputId": "fc314a78-486e-4eff-a442-de0613c150d3"
      },
      "execution_count": 18,
      "outputs": [
        {
          "output_type": "execute_result",
          "data": {
            "text/plain": [
              "{0: 'not relevant', 1: 'relevant', 2: 'highly relevant'}"
            ]
          },
          "metadata": {},
          "execution_count": 18
        }
      ]
    },
    {
      "cell_type": "code",
      "source": [
        "dataset.qrels_cls()"
      ],
      "metadata": {
        "colab": {
          "base_uri": "https://localhost:8080/"
        },
        "id": "3byU0BS3oo0p",
        "outputId": "07e86de5-6762-409a-ee9a-77672ebdc5fb"
      },
      "execution_count": 19,
      "outputs": [
        {
          "output_type": "execute_result",
          "data": {
            "text/plain": [
              "ir_datasets.formats.trec.TrecQrel"
            ]
          },
          "metadata": {},
          "execution_count": 19
        }
      ]
    },
    {
      "cell_type": "code",
      "source": [
        "dataset.qrels_cls()._fields"
      ],
      "metadata": {
        "colab": {
          "base_uri": "https://localhost:8080/"
        },
        "id": "KPMAlJ-CotPX",
        "outputId": "a814b271-4c4c-4cfa-83ad-7e25c72b5617"
      },
      "execution_count": 20,
      "outputs": [
        {
          "output_type": "execute_result",
          "data": {
            "text/plain": [
              "('query_id', 'doc_id', 'relevance', 'iteration')"
            ]
          },
          "metadata": {},
          "execution_count": 20
        }
      ]
    },
    {
      "cell_type": "code",
      "source": [
        "dataset.qrels_cls().__annotations__"
      ],
      "metadata": {
        "colab": {
          "base_uri": "https://localhost:8080/"
        },
        "id": "I0Vdm9OCowbi",
        "outputId": "fe407879-375b-430d-f9cf-31d30349169b"
      },
      "execution_count": 21,
      "outputs": [
        {
          "output_type": "execute_result",
          "data": {
            "text/plain": [
              "OrderedDict([('query_id', str),\n",
              "             ('doc_id', str),\n",
              "             ('relevance', int),\n",
              "             ('iteration', str)])"
            ]
          },
          "metadata": {},
          "execution_count": 21
        }
      ]
    },
    {
      "cell_type": "markdown",
      "source": [
        "Returns the two-character ISO 639-1 language code (e.g., \"en\" for English) of the documents/ queries."
      ],
      "metadata": {
        "id": "27l4FPb8mEUB"
      }
    },
    {
      "cell_type": "code",
      "source": [
        "dataset.docs_lang()\n",
        "dataset.queries_lang()"
      ],
      "metadata": {
        "colab": {
          "base_uri": "https://localhost:8080/",
          "height": 35
        },
        "id": "afwobQ1zlq_s",
        "outputId": "b4210415-147d-403d-a1ac-f7d68e878f88"
      },
      "execution_count": 22,
      "outputs": [
        {
          "output_type": "execute_result",
          "data": {
            "text/plain": [
              "'en'"
            ],
            "application/vnd.google.colaboratory.intrinsic+json": {
              "type": "string"
            }
          },
          "metadata": {},
          "execution_count": 22
        }
      ]
    },
    {
      "cell_type": "markdown",
      "source": [
        "Returns available metadata about the queries from this dataset (e.g., count)."
      ],
      "metadata": {
        "id": "WRwchNogmJVy"
      }
    },
    {
      "cell_type": "code",
      "source": [
        "dataset.queries_metadata()"
      ],
      "metadata": {
        "colab": {
          "base_uri": "https://localhost:8080/"
        },
        "id": "v9nICbhEmL5z",
        "outputId": "3f064d79-b4c7-4c10-b6f0-62095a7d74c2"
      },
      "execution_count": 23,
      "outputs": [
        {
          "output_type": "execute_result",
          "data": {
            "text/plain": [
              "{'count': 250}"
            ]
          },
          "metadata": {},
          "execution_count": 23
        }
      ]
    },
    {
      "cell_type": "markdown",
      "source": [
        "Returns available metadata about the qrels from this dataset (e.g., count)."
      ],
      "metadata": {
        "id": "f6MEIIiRmvAE"
      }
    },
    {
      "cell_type": "code",
      "source": [
        "dataset.qrels_metadata()"
      ],
      "metadata": {
        "colab": {
          "base_uri": "https://localhost:8080/"
        },
        "id": "oio0-LAamt8i",
        "outputId": "837bdb3b-8cbd-4957-9ef0-fd19cbdb31c8"
      },
      "execution_count": 24,
      "outputs": [
        {
          "output_type": "execute_result",
          "data": {
            "text/plain": [
              "{'count': 311410,\n",
              " 'fields': {'relevance': {'counts_by_value': {'0': 293998,\n",
              "    '1': 16381,\n",
              "    '2': 1031}}}}"
            ]
          },
          "metadata": {},
          "execution_count": 24
        }
      ]
    }
  ],
  "metadata": {
    "colab": {
      "name": "robust04-ir_dataset.ipynb",
      "provenance": [],
      "include_colab_link": true
    },
    "kernelspec": {
      "display_name": "Python 3",
      "name": "python3"
    },
    "language_info": {
      "name": "python"
    }
  },
  "nbformat": 4,
  "nbformat_minor": 0
}